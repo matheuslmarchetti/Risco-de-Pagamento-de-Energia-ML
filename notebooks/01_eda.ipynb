{
 "cells": [
  {
   "cell_type": "markdown",
   "id": "d8aacd39",
   "metadata": {},
   "source": [
    "# Análise exploratória e visualizações"
   ]
  }
 ],
 "metadata": {
  "language_info": {
   "name": "python"
  }
 },
 "nbformat": 4,
 "nbformat_minor": 5
}
